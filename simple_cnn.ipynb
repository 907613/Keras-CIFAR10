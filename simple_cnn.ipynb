{
 "cells": [
  {
   "cell_type": "markdown",
   "metadata": {
    "collapsed": true
   },
   "source": [
    "# Keras cnn classifier.\n",
    "this classifier is corresponding with CS231n homework assign2 cnn homework.\n",
    "* 7x7 layer Conv layer with 32 filters\n",
    "* ReLu Activation Layer\n",
    "* BN Layer\n",
    "* 2x2 Max Polling Layer\n",
    "* Dense Layer with 1024 output units.\n",
    "* ReLU\n",
    "* Dense Layer with 10 outputs."
   ]
  },
  {
   "cell_type": "code",
   "execution_count": 27,
   "metadata": {},
   "outputs": [
    {
     "name": "stdout",
     "output_type": "stream",
     "text": [
      "The autoreload extension is already loaded. To reload it, use:\n",
      "  %reload_ext autoreload\n"
     ]
    }
   ],
   "source": [
    "import matplotlib.pyplot as plt\n",
    "import numpy as np\n",
    "import keras\n",
    "from keras.models import Sequential\n",
    "from keras.layers import Dense, Activation, Conv2D, Flatten, BatchNormalization, MaxPool2D\n",
    "from data_utils import *\n",
    "\n",
    "%matplotlib inline\n",
    "plt.rcParams['figure.figsize'] = (10.0, 8.0) # set default size of plots\n",
    "plt.rcParams['image.interpolation'] = 'nearest'\n",
    "plt.rcParams['image.cmap'] = 'gray'\n",
    "\n",
    "import tensorflow as tf\n",
    "from keras.backend.tensorflow_backend import set_session\n",
    "config = tf.ConfigProto()\n",
    "config.gpu_options.per_process_gpu_memory_fraction = 0.3\n",
    "set_session(tf.Session(config=config))\n",
    "\n",
    "%load_ext autoreload\n",
    "%autoreload 2"
   ]
  },
  {
   "cell_type": "code",
   "execution_count": 28,
   "metadata": {},
   "outputs": [
    {
     "name": "stdout",
     "output_type": "stream",
     "text": [
      "CIFAR10 Training data shape: (50000, 32, 32, 3)\n",
      "CIFAR10 Training label shape (50000, 1)\n",
      "CIFAR10 Test data shape (10000, 32, 32, 3)\n",
      "CIFAR10 Test label shape (10000, 1)\n"
     ]
    }
   ],
   "source": [
    "# get data\n",
    "cifar10_data = CIFAR10Data()\n",
    "x_train, y_train, x_test, y_test = cifar10_data.get_data(subtract_mean=True)"
   ]
  },
  {
   "cell_type": "markdown",
   "metadata": {},
   "source": [
    "# First, we implement a very simple cnn for test.\n",
    "* 7x7 layer conv with 32 filters, stride is (2,2)\n",
    "* ReLU\n",
    "* Dense Layer\n",
    "* SVM"
   ]
  },
  {
   "cell_type": "code",
   "execution_count": 29,
   "metadata": {},
   "outputs": [
    {
     "name": "stdout",
     "output_type": "stream",
     "text": [
      "_________________________________________________________________\n",
      "Layer (type)                 Output Shape              Param #   \n",
      "=================================================================\n",
      "conv2d_10 (Conv2D)           (None, 13, 13, 32)        4736      \n",
      "_________________________________________________________________\n",
      "activation_22 (Activation)   (None, 13, 13, 32)        0         \n",
      "_________________________________________________________________\n",
      "flatten_10 (Flatten)         (None, 5408)              0         \n",
      "_________________________________________________________________\n",
      "dense_13 (Dense)             (None, 10)                54090     \n",
      "_________________________________________________________________\n",
      "activation_23 (Activation)   (None, 10)                0         \n",
      "=================================================================\n",
      "Total params: 58,826\n",
      "Trainable params: 58,826\n",
      "Non-trainable params: 0\n",
      "_________________________________________________________________\n"
     ]
    }
   ],
   "source": [
    "from classifiers.simple_cnn import simple_cnn\n",
    "from keras.optimizers import Adam\n",
    "\n",
    "num_classes = 10\n",
    "simple_model = simple_cnn(classes=num_classes, input_shape=x_train.shape[1:])\n",
    "simple_model.compile(optimizer=Adam(lr=5e-4),\n",
    "                     loss=keras.losses.categorical_hinge,\n",
    "                     metrics=['accuracy'],\n",
    "                     )\n",
    "simple_model.summary()"
   ]
  },
  {
   "cell_type": "code",
   "execution_count": 30,
   "metadata": {},
   "outputs": [
    {
     "name": "stdout",
     "output_type": "stream",
     "text": [
      "Train on 40000 samples, validate on 10000 samples\n",
      "Epoch 1/1\n",
      "40000/40000 [==============================] - 6s 150us/step - loss: 6.2696 - acc: 0.3145 - val_loss: 3.6552 - val_acc: 0.3460\n",
      "10000/10000 [==============================] - 1s 111us/step\n",
      "evaluate loss :3.658973 acc:0.346200\n"
     ]
    }
   ],
   "source": [
    "simple_model.fit(x_train, y_train, batch_size=64, epochs=1, validation_split=0.2)\n",
    "\n",
    "\n",
    "loss, acc = simple_model.evaluate(x_test, y_test)\n",
    "print('evaluate loss :%f acc:%f' % (loss, acc))"
   ]
  },
  {
   "cell_type": "markdown",
   "metadata": {},
   "source": [
    "# Now, implement a complex model.\n",
    "* 7x7 layer Conv layer with 32 filters\n",
    "* BN Layer\n",
    "* ReLu Activation Layer\n",
    "* 2x2 Max Polling Layer\n",
    "* Dense Layer with 1024 output units.\n",
    "* BN Layer\n",
    "* ReLU\n",
    "* Dense Layer with 10 outputs."
   ]
  },
  {
   "cell_type": "code",
   "execution_count": 31,
   "metadata": {},
   "outputs": [
    {
     "name": "stdout",
     "output_type": "stream",
     "text": [
      "_________________________________________________________________\n",
      "Layer (type)                 Output Shape              Param #   \n",
      "=================================================================\n",
      "conv2d_11 (Conv2D)           (None, 32, 32, 32)        4736      \n",
      "_________________________________________________________________\n",
      "batch_normalization_7 (Batch (None, 32, 32, 32)        128       \n",
      "_________________________________________________________________\n",
      "activation_24 (Activation)   (None, 32, 32, 32)        0         \n",
      "_________________________________________________________________\n",
      "max_pooling2d_4 (MaxPooling2 (None, 16, 16, 32)        0         \n",
      "_________________________________________________________________\n",
      "flatten_11 (Flatten)         (None, 8192)              0         \n",
      "_________________________________________________________________\n",
      "dense_14 (Dense)             (None, 1024)              8389632   \n",
      "_________________________________________________________________\n",
      "batch_normalization_8 (Batch (None, 1024)              4096      \n",
      "_________________________________________________________________\n",
      "activation_25 (Activation)   (None, 1024)              0         \n",
      "_________________________________________________________________\n",
      "dense_15 (Dense)             (None, 10)                10250     \n",
      "_________________________________________________________________\n",
      "activation_26 (Activation)   (None, 10)                0         \n",
      "=================================================================\n",
      "Total params: 8,408,842\n",
      "Trainable params: 8,406,730\n",
      "Non-trainable params: 2,112\n",
      "_________________________________________________________________\n"
     ]
    }
   ],
   "source": [
    "from classifiers.simple_cnn import complex_cnn\n",
    "from keras.optimizers import RMSprop\n",
    "\n",
    "complex_model = complex_cnn(classes=num_classes, input_shape=x_train.shape[1:])\n",
    "complex_model.compile(optimizer=keras.optimizers.RMSprop(lr=1e-3),\n",
    "                      loss=keras.losses.categorical_crossentropy,\n",
    "                      metrics=['accuracy'],\n",
    "                      )\n",
    "complex_model.summary()"
   ]
  },
  {
   "cell_type": "code",
   "execution_count": 32,
   "metadata": {},
   "outputs": [
    {
     "name": "stdout",
     "output_type": "stream",
     "text": [
      "Train on 40000 samples, validate on 10000 samples\n",
      "Epoch 1/5\n",
      "40000/40000 [==============================] - 11s 276us/step - loss: 1.4680 - acc: 0.4953 - val_loss: 1.1996 - val_acc: 0.5838\n",
      "Epoch 2/5\n",
      "40000/40000 [==============================] - 10s 247us/step - loss: 1.0360 - acc: 0.6390 - val_loss: 1.0874 - val_acc: 0.6267\n",
      "Epoch 3/5\n",
      "40000/40000 [==============================] - 10s 252us/step - loss: 0.8251 - acc: 0.7097 - val_loss: 1.0533 - val_acc: 0.6477\n",
      "Epoch 4/5\n",
      "40000/40000 [==============================] - 10s 250us/step - loss: 0.6469 - acc: 0.7758 - val_loss: 1.0475 - val_acc: 0.6657\n",
      "Epoch 5/5\n",
      "40000/40000 [==============================] - 10s 241us/step - loss: 0.4810 - acc: 0.8336 - val_loss: 1.0902 - val_acc: 0.6657\n"
     ]
    }
   ],
   "source": [
    "history = complex_model.fit(x_train, y_train, batch_size=64, epochs=5, validation_split=0.2)"
   ]
  },
  {
   "cell_type": "code",
   "execution_count": 33,
   "metadata": {},
   "outputs": [
    {
     "data": {
      "image/png": "[encoded data removed]",
      "text/plain": [
       "<Figure size 720x576 with 1 Axes>"
      ]
     },
     "metadata": {},
     "output_type": "display_data"
    },
    {
     "data": {
      "image/png": "[encoded data removed]",
      "text/plain": [
       "<Figure size 720x576 with 1 Axes>"
      ]
     },
     "metadata": {},
     "output_type": "display_data"
    }
   ],
   "source": [
    "\n",
    "plt.plot(history.history['loss'])\n",
    "plt.plot(history.history['val_loss'])\n",
    "plt.xlabel('epoch')\n",
    "plt.ylabel('Loss value')\n",
    "plt.legend(['train', 'test'], loc='upper left')\n",
    "plt.show()\n",
    "\n",
    "plt.plot(history.history['acc'])\n",
    "plt.plot(history.history['val_acc'])\n",
    "plt.xlabel('epoch')\n",
    "plt.ylabel('acc value')\n",
    "plt.legend(['train', 'test'], loc='upper left')\n",
    "plt.show()\n"
   ]
  },
  {
   "cell_type": "code",
   "execution_count": 34,
   "metadata": {},
   "outputs": [
    {
     "name": "stdout",
     "output_type": "stream",
     "text": [
      "10000/10000 [==============================] - 1s 130us/step\n",
      "evaluate loss :1.091966 acc:0.667500\n"
     ]
    }
   ],
   "source": [
    "# evaluate\n",
    "loss, acc = complex_model.evaluate(x_test, y_test)\n",
    "print('evaluate loss :%f acc:%f' % (loss, acc))"
   ]
  },
  {
   "cell_type": "code",
   "execution_count": null,
   "metadata": {},
   "outputs": [],
   "source": []
  }
 ],
 "metadata": {
  "kernelspec": {
   "display_name": "Python 3",
   "language": "python",
   "name": "python3"
  },
  "language_info": {
   "codemirror_mode": {
    "name": "ipython",
    "version": 3
   },
   "file_extension": ".py",
   "mimetype": "text/x-python",
   "name": "python",
   "nbconvert_exporter": "python",
   "pygments_lexer": "ipython3",
   "version": "3.5.2"
  }
 },
 "nbformat": 4,
 "nbformat_minor": 1
}
